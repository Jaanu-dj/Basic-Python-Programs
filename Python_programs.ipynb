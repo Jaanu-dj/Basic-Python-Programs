{
 "cells": [
  {
   "cell_type": "code",
   "execution_count": 11,
   "id": "bde54cf7",
   "metadata": {},
   "outputs": [
    {
     "name": "stdout",
     "output_type": "stream",
     "text": [
      "Enter the principal:500000\n",
      "Enter the rate of interest (%pa): 5\n",
      "Enter the duration(years):2\n",
      "Simple interest={} 50000.0\n",
      "Amount={} 550000.0\n"
     ]
    }
   ],
   "source": [
    "# Simple interest\n",
    "p=float(input(\"Enter the principal:\"))\n",
    "r=float(input(\"Enter the rate of interest (%pa): \"))\n",
    "t=float(input(\"Enter the duration(years):\"))\n",
    "si=(p*r*t)/100\n",
    "amount=p+si\n",
    "print(\"Simple interest={}\",si)\n",
    "print(\"Amount={}\",amount)        \n",
    "        \n",
    "\n"
   ]
  },
  {
   "cell_type": "code",
   "execution_count": 14,
   "id": "8172c953",
   "metadata": {},
   "outputs": [
    {
     "name": "stdout",
     "output_type": "stream",
     "text": [
      "Enter your name:seetha\n",
      "Enter your age:367\n",
      "Hiseetha! you can vote!\n"
     ]
    }
   ],
   "source": [
    "#Program that asks for the user's name and age\n",
    "#and prints whether the user is eligible to vote or not!\n",
    "name=input(\"Enter your name:\")\n",
    "age=int(input(\"Enter your age:\"))\n",
    "if age>=18:print(\"Hi{}! you can vote!\".format(name))\n",
    "if age<18:print(\"Sorry{}! you can't vote!\".format(name))\n",
    "    \n",
    "    "
   ]
  },
  {
   "cell_type": "code",
   "execution_count": 17,
   "id": "6e544cc2",
   "metadata": {},
   "outputs": [
    {
     "name": "stdout",
     "output_type": "stream",
     "text": [
      "Enter an integer:00\n",
      "0 is zero\n"
     ]
    }
   ],
   "source": [
    "#Program that classifies an integer as being\n",
    "#1.a positive integer\n",
    "#2.a negative integer\n",
    "#3.zero\n",
    "x=int(input(\"Enter an integer:\"))\n",
    "if x>0:\n",
    "    print(\"{} is positive\".format(x))\n",
    "elif x<0:\n",
    "    print(\"{} is negative\".format(x))\n",
    "else:\n",
    "    print(\"{} is zero\".format(x))"
   ]
  },
  {
   "cell_type": "code",
   "execution_count": 2,
   "id": "55cf6fbf",
   "metadata": {},
   "outputs": [
    {
     "name": "stdout",
     "output_type": "stream",
     "text": [
      "Select operation.\n",
      "1.Add\n",
      "2.Subtract\n",
      "3.Multiply\n",
      "4.Divide\n",
      "Enter choice(1/2/3/4): 1\n",
      "Enter first number: 12\n",
      "Enter second number: 10\n",
      "12.0 + 10.0 = 22.0\n",
      "Let's do next calculation? (yes/no): yes\n",
      "Enter choice(1/2/3/4): 2\n",
      "Enter first number: 50\n",
      "Enter second number: 20\n",
      "50.0 - 20.0 = 30.0\n",
      "Let's do next calculation? (yes/no): yes\n",
      "Enter choice(1/2/3/4): 5\n",
      "Invalid Input\n",
      "Enter choice(1/2/3/4): 7\n",
      "Invalid Input\n",
      "Enter choice(1/2/3/4): 3\n",
      "Enter first number: 5\n",
      "Enter second number: 7\n",
      "5.0 * 7.0 = 35.0\n",
      "Let's do next calculation? (yes/no): yes\n",
      "Enter choice(1/2/3/4): 4\n",
      "Enter first number: 81\n",
      "Enter second number: 9\n",
      "81.0 / 9.0 = 9.0\n",
      "Let's do next calculation? (yes/no): no\n"
     ]
    }
   ],
   "source": [
    "# This function adds two numbers\n",
    "def add(x, y):\n",
    "    return x + y\n",
    "\n",
    "# This function subtracts two numbers\n",
    "def subtract(x, y):\n",
    "    return x - y\n",
    "\n",
    "# This function multiplies two numbers\n",
    "def multiply(x, y):\n",
    "    return x * y\n",
    "\n",
    "# This function divides two numbers\n",
    "def divide(x, y):\n",
    "    return x / y\n",
    "\n",
    "\n",
    "print(\"Select operation.\")\n",
    "print(\"1.Add\")\n",
    "print(\"2.Subtract\")\n",
    "print(\"3.Multiply\")\n",
    "print(\"4.Divide\")\n",
    "\n",
    "while True:\n",
    "    # take input from the user\n",
    "    choice = input(\"Enter choice(1/2/3/4): \")\n",
    "\n",
    "    # check if choice is one of the four options\n",
    "    if choice in ('1', '2', '3', '4'):\n",
    "        try:\n",
    "            num1 = float(input(\"Enter first number: \"))\n",
    "            num2 = float(input(\"Enter second number: \"))\n",
    "        except ValueError:\n",
    "            print(\"Invalid input. Please enter a number.\")\n",
    "            continue\n",
    "\n",
    "        if choice == '1':\n",
    "            print(num1, \"+\", num2, \"=\", add(num1, num2))\n",
    "\n",
    "        elif choice == '2':\n",
    "            print(num1, \"-\", num2, \"=\", subtract(num1, num2))\n",
    "\n",
    "        elif choice == '3':\n",
    "            print(num1, \"*\", num2, \"=\", multiply(num1, num2))\n",
    "\n",
    "        elif choice == '4':\n",
    "            print(num1, \"/\", num2, \"=\", divide(num1, num2))\n",
    "        \n",
    "        # check if user wants another calculation\n",
    "        # break the while loop if answer is no\n",
    "        next_calculation = input(\"Let's do next calculation? (yes/no): \")\n",
    "        if next_calculation == \"no\":\n",
    "          break\n",
    "    else:\n",
    "        print(\"Invalid Input\")"
   ]
  }
 ],
 "metadata": {
  "kernelspec": {
   "display_name": "Python 3 (ipykernel)",
   "language": "python",
   "name": "python3"
  },
  "language_info": {
   "codemirror_mode": {
    "name": "ipython",
    "version": 3
   },
   "file_extension": ".py",
   "mimetype": "text/x-python",
   "name": "python",
   "nbconvert_exporter": "python",
   "pygments_lexer": "ipython3",
   "version": "3.9.13"
  }
 },
 "nbformat": 4,
 "nbformat_minor": 5
}
